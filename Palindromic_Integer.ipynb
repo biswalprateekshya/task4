{
 "cells": [
  {
   "cell_type": "code",
   "execution_count": 3,
   "id": "ed7af10e",
   "metadata": {},
   "outputs": [
    {
     "name": "stdout",
     "output_type": "stream",
     "text": [
      "enter a number series34 54 31 22\n",
      "True\n"
     ]
    }
   ],
   "source": [
    "user = input(\"enter a number series\").split(\" \")  # splitting the inputs with spaces by 'split'\n",
    "list1 = []  # for user input\n",
    "list2 = []  # for the output\n",
    "for i in user:\n",
    "    list1.append(i)  \n",
    "for i in list1:\n",
    "    if i == i[::-1]:\n",
    "        list2.append(True)\n",
    "    else:\n",
    "        list2.append(False)\n",
    "        \n",
    "if True in list2:\n",
    "    print(\"True\")\n",
    "else:\n",
    "    print(\"False\")"
   ]
  },
  {
   "cell_type": "code",
   "execution_count": null,
   "id": "7bee204d",
   "metadata": {},
   "outputs": [],
   "source": []
  }
 ],
 "metadata": {
  "kernelspec": {
   "display_name": "Python 3 (ipykernel)",
   "language": "python",
   "name": "python3"
  },
  "language_info": {
   "codemirror_mode": {
    "name": "ipython",
    "version": 3
   },
   "file_extension": ".py",
   "mimetype": "text/x-python",
   "name": "python",
   "nbconvert_exporter": "python",
   "pygments_lexer": "ipython3",
   "version": "3.9.7"
  }
 },
 "nbformat": 4,
 "nbformat_minor": 5
}
